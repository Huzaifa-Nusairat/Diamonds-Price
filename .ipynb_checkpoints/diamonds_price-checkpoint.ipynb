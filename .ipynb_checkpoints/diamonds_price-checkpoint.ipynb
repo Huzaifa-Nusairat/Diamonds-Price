{
 "cells": [
  {
   "cell_type": "code",
   "execution_count": 1,
   "metadata": {
    "id": "qyOEIVN1jtLD"
   },
   "outputs": [],
   "source": [
    "import pandas as pd\n",
    "import numpy as np\n",
    "import matplotlib.pyplot as plt\n",
    "import seaborn as sns "
   ]
  },
  {
   "cell_type": "code",
   "execution_count": 2,
   "metadata": {
    "id": "CvJgxqsnjtLG"
   },
   "outputs": [],
   "source": [
    "data = pd.read_csv(\"diamonds.csv\")"
   ]
  },
  {
   "cell_type": "code",
   "execution_count": 3,
   "metadata": {
    "colab": {
     "base_uri": "https://localhost:8080/",
     "height": 205
    },
    "id": "PytE00G4jtLH",
    "outputId": "eeb237f8-74a8-4873-bab7-a7774d73ba22"
   },
   "outputs": [
    {
     "data": {
      "text/html": [
       "<div>\n",
       "<style scoped>\n",
       "    .dataframe tbody tr th:only-of-type {\n",
       "        vertical-align: middle;\n",
       "    }\n",
       "\n",
       "    .dataframe tbody tr th {\n",
       "        vertical-align: top;\n",
       "    }\n",
       "\n",
       "    .dataframe thead th {\n",
       "        text-align: right;\n",
       "    }\n",
       "</style>\n",
       "<table border=\"1\" class=\"dataframe\">\n",
       "  <thead>\n",
       "    <tr style=\"text-align: right;\">\n",
       "      <th></th>\n",
       "      <th>Unnamed: 0</th>\n",
       "      <th>carat</th>\n",
       "      <th>cut</th>\n",
       "      <th>color</th>\n",
       "      <th>clarity</th>\n",
       "      <th>depth</th>\n",
       "      <th>table</th>\n",
       "      <th>price</th>\n",
       "      <th>x</th>\n",
       "      <th>y</th>\n",
       "      <th>z</th>\n",
       "    </tr>\n",
       "  </thead>\n",
       "  <tbody>\n",
       "    <tr>\n",
       "      <th>0</th>\n",
       "      <td>1</td>\n",
       "      <td>0.23</td>\n",
       "      <td>Ideal</td>\n",
       "      <td>E</td>\n",
       "      <td>SI2</td>\n",
       "      <td>61.5</td>\n",
       "      <td>55.0</td>\n",
       "      <td>326</td>\n",
       "      <td>3.95</td>\n",
       "      <td>3.98</td>\n",
       "      <td>2.43</td>\n",
       "    </tr>\n",
       "    <tr>\n",
       "      <th>1</th>\n",
       "      <td>2</td>\n",
       "      <td>0.21</td>\n",
       "      <td>Premium</td>\n",
       "      <td>E</td>\n",
       "      <td>SI1</td>\n",
       "      <td>59.8</td>\n",
       "      <td>61.0</td>\n",
       "      <td>326</td>\n",
       "      <td>3.89</td>\n",
       "      <td>3.84</td>\n",
       "      <td>2.31</td>\n",
       "    </tr>\n",
       "    <tr>\n",
       "      <th>2</th>\n",
       "      <td>3</td>\n",
       "      <td>0.23</td>\n",
       "      <td>Good</td>\n",
       "      <td>E</td>\n",
       "      <td>VS1</td>\n",
       "      <td>56.9</td>\n",
       "      <td>65.0</td>\n",
       "      <td>327</td>\n",
       "      <td>4.05</td>\n",
       "      <td>4.07</td>\n",
       "      <td>2.31</td>\n",
       "    </tr>\n",
       "    <tr>\n",
       "      <th>3</th>\n",
       "      <td>4</td>\n",
       "      <td>0.29</td>\n",
       "      <td>Premium</td>\n",
       "      <td>I</td>\n",
       "      <td>VS2</td>\n",
       "      <td>62.4</td>\n",
       "      <td>58.0</td>\n",
       "      <td>334</td>\n",
       "      <td>4.20</td>\n",
       "      <td>4.23</td>\n",
       "      <td>2.63</td>\n",
       "    </tr>\n",
       "    <tr>\n",
       "      <th>4</th>\n",
       "      <td>5</td>\n",
       "      <td>0.31</td>\n",
       "      <td>Good</td>\n",
       "      <td>J</td>\n",
       "      <td>SI2</td>\n",
       "      <td>63.3</td>\n",
       "      <td>58.0</td>\n",
       "      <td>335</td>\n",
       "      <td>4.34</td>\n",
       "      <td>4.35</td>\n",
       "      <td>2.75</td>\n",
       "    </tr>\n",
       "  </tbody>\n",
       "</table>\n",
       "</div>"
      ],
      "text/plain": [
       "   Unnamed: 0  carat      cut color clarity  ...  table  price     x     y     z\n",
       "0           1   0.23    Ideal     E     SI2  ...   55.0    326  3.95  3.98  2.43\n",
       "1           2   0.21  Premium     E     SI1  ...   61.0    326  3.89  3.84  2.31\n",
       "2           3   0.23     Good     E     VS1  ...   65.0    327  4.05  4.07  2.31\n",
       "3           4   0.29  Premium     I     VS2  ...   58.0    334  4.20  4.23  2.63\n",
       "4           5   0.31     Good     J     SI2  ...   58.0    335  4.34  4.35  2.75\n",
       "\n",
       "[5 rows x 11 columns]"
      ]
     },
     "execution_count": 3,
     "metadata": {},
     "output_type": "execute_result"
    }
   ],
   "source": [
    "data.head(5)"
   ]
  },
  {
   "cell_type": "code",
   "execution_count": 4,
   "metadata": {
    "colab": {
     "base_uri": "https://localhost:8080/"
    },
    "id": "93JjOCwcjtLI",
    "outputId": "34f2bee1-d605-4dc2-a51b-9589ad3228ff"
   },
   "outputs": [
    {
     "name": "stdout",
     "output_type": "stream",
     "text": [
      "<class 'pandas.core.frame.DataFrame'>\n",
      "RangeIndex: 53940 entries, 0 to 53939\n",
      "Data columns (total 11 columns):\n",
      " #   Column      Non-Null Count  Dtype  \n",
      "---  ------      --------------  -----  \n",
      " 0   Unnamed: 0  53940 non-null  int64  \n",
      " 1   carat       53940 non-null  float64\n",
      " 2   cut         53940 non-null  object \n",
      " 3   color       53940 non-null  object \n",
      " 4   clarity     53940 non-null  object \n",
      " 5   depth       53940 non-null  float64\n",
      " 6   table       53940 non-null  float64\n",
      " 7   price       53940 non-null  int64  \n",
      " 8   x           53940 non-null  float64\n",
      " 9   y           53940 non-null  float64\n",
      " 10  z           53940 non-null  float64\n",
      "dtypes: float64(6), int64(2), object(3)\n",
      "memory usage: 4.5+ MB\n"
     ]
    }
   ],
   "source": [
    "data.info()"
   ]
  },
  {
   "cell_type": "code",
   "execution_count": 5,
   "metadata": {
    "colab": {
     "base_uri": "https://localhost:8080/",
     "height": 299
    },
    "id": "t8xvx70HjtLJ",
    "outputId": "a645ed45-99cd-48e5-d13f-583072a8d559"
   },
   "outputs": [
    {
     "data": {
      "text/html": [
       "<div>\n",
       "<style scoped>\n",
       "    .dataframe tbody tr th:only-of-type {\n",
       "        vertical-align: middle;\n",
       "    }\n",
       "\n",
       "    .dataframe tbody tr th {\n",
       "        vertical-align: top;\n",
       "    }\n",
       "\n",
       "    .dataframe thead th {\n",
       "        text-align: right;\n",
       "    }\n",
       "</style>\n",
       "<table border=\"1\" class=\"dataframe\">\n",
       "  <thead>\n",
       "    <tr style=\"text-align: right;\">\n",
       "      <th></th>\n",
       "      <th>Unnamed: 0</th>\n",
       "      <th>carat</th>\n",
       "      <th>depth</th>\n",
       "      <th>table</th>\n",
       "      <th>price</th>\n",
       "      <th>x</th>\n",
       "      <th>y</th>\n",
       "      <th>z</th>\n",
       "    </tr>\n",
       "  </thead>\n",
       "  <tbody>\n",
       "    <tr>\n",
       "      <th>count</th>\n",
       "      <td>53940.000000</td>\n",
       "      <td>53940.000000</td>\n",
       "      <td>53940.000000</td>\n",
       "      <td>53940.000000</td>\n",
       "      <td>53940.000000</td>\n",
       "      <td>53940.000000</td>\n",
       "      <td>53940.000000</td>\n",
       "      <td>53940.000000</td>\n",
       "    </tr>\n",
       "    <tr>\n",
       "      <th>mean</th>\n",
       "      <td>26970.500000</td>\n",
       "      <td>0.797940</td>\n",
       "      <td>61.749405</td>\n",
       "      <td>57.457184</td>\n",
       "      <td>3932.799722</td>\n",
       "      <td>5.731157</td>\n",
       "      <td>5.734526</td>\n",
       "      <td>3.538734</td>\n",
       "    </tr>\n",
       "    <tr>\n",
       "      <th>std</th>\n",
       "      <td>15571.281097</td>\n",
       "      <td>0.474011</td>\n",
       "      <td>1.432621</td>\n",
       "      <td>2.234491</td>\n",
       "      <td>3989.439738</td>\n",
       "      <td>1.121761</td>\n",
       "      <td>1.142135</td>\n",
       "      <td>0.705699</td>\n",
       "    </tr>\n",
       "    <tr>\n",
       "      <th>min</th>\n",
       "      <td>1.000000</td>\n",
       "      <td>0.200000</td>\n",
       "      <td>43.000000</td>\n",
       "      <td>43.000000</td>\n",
       "      <td>326.000000</td>\n",
       "      <td>0.000000</td>\n",
       "      <td>0.000000</td>\n",
       "      <td>0.000000</td>\n",
       "    </tr>\n",
       "    <tr>\n",
       "      <th>25%</th>\n",
       "      <td>13485.750000</td>\n",
       "      <td>0.400000</td>\n",
       "      <td>61.000000</td>\n",
       "      <td>56.000000</td>\n",
       "      <td>950.000000</td>\n",
       "      <td>4.710000</td>\n",
       "      <td>4.720000</td>\n",
       "      <td>2.910000</td>\n",
       "    </tr>\n",
       "    <tr>\n",
       "      <th>50%</th>\n",
       "      <td>26970.500000</td>\n",
       "      <td>0.700000</td>\n",
       "      <td>61.800000</td>\n",
       "      <td>57.000000</td>\n",
       "      <td>2401.000000</td>\n",
       "      <td>5.700000</td>\n",
       "      <td>5.710000</td>\n",
       "      <td>3.530000</td>\n",
       "    </tr>\n",
       "    <tr>\n",
       "      <th>75%</th>\n",
       "      <td>40455.250000</td>\n",
       "      <td>1.040000</td>\n",
       "      <td>62.500000</td>\n",
       "      <td>59.000000</td>\n",
       "      <td>5324.250000</td>\n",
       "      <td>6.540000</td>\n",
       "      <td>6.540000</td>\n",
       "      <td>4.040000</td>\n",
       "    </tr>\n",
       "    <tr>\n",
       "      <th>max</th>\n",
       "      <td>53940.000000</td>\n",
       "      <td>5.010000</td>\n",
       "      <td>79.000000</td>\n",
       "      <td>95.000000</td>\n",
       "      <td>18823.000000</td>\n",
       "      <td>10.740000</td>\n",
       "      <td>58.900000</td>\n",
       "      <td>31.800000</td>\n",
       "    </tr>\n",
       "  </tbody>\n",
       "</table>\n",
       "</div>"
      ],
      "text/plain": [
       "         Unnamed: 0         carat  ...             y             z\n",
       "count  53940.000000  53940.000000  ...  53940.000000  53940.000000\n",
       "mean   26970.500000      0.797940  ...      5.734526      3.538734\n",
       "std    15571.281097      0.474011  ...      1.142135      0.705699\n",
       "min        1.000000      0.200000  ...      0.000000      0.000000\n",
       "25%    13485.750000      0.400000  ...      4.720000      2.910000\n",
       "50%    26970.500000      0.700000  ...      5.710000      3.530000\n",
       "75%    40455.250000      1.040000  ...      6.540000      4.040000\n",
       "max    53940.000000      5.010000  ...     58.900000     31.800000\n",
       "\n",
       "[8 rows x 8 columns]"
      ]
     },
     "execution_count": 5,
     "metadata": {},
     "output_type": "execute_result"
    }
   ],
   "source": [
    "data.describe()"
   ]
  },
  {
   "cell_type": "code",
   "execution_count": 6,
   "metadata": {
    "colab": {
     "base_uri": "https://localhost:8080/"
    },
    "id": "rUNN_l17jtLJ",
    "outputId": "d6589c62-61da-4780-e4de-33f44ff7944c"
   },
   "outputs": [
    {
     "data": {
      "text/plain": [
       "Index(['Unnamed: 0', 'carat', 'cut', 'color', 'clarity', 'depth', 'table',\n",
       "       'price', 'x', 'y', 'z'],\n",
       "      dtype='object')"
      ]
     },
     "execution_count": 6,
     "metadata": {},
     "output_type": "execute_result"
    }
   ],
   "source": [
    "data.columns"
   ]
  },
  {
   "cell_type": "code",
   "execution_count": 7,
   "metadata": {
    "colab": {
     "base_uri": "https://localhost:8080/",
     "height": 1000
    },
    "id": "zGhdBn6kjtLK",
    "outputId": "95b71f77-6410-44af-ab34-9923ae587887"
   },
   "outputs": [
    {
     "data": {
      "text/plain": [
       "array([[<matplotlib.axes._subplots.AxesSubplot object at 0x7fba290ea3d0>,\n",
       "        <matplotlib.axes._subplots.AxesSubplot object at 0x7fba290c0990>,\n",
       "        <matplotlib.axes._subplots.AxesSubplot object at 0x7fba29078fd0>],\n",
       "       [<matplotlib.axes._subplots.AxesSubplot object at 0x7fba2903a6d0>,\n",
       "        <matplotlib.axes._subplots.AxesSubplot object at 0x7fba28fefd50>,\n",
       "        <matplotlib.axes._subplots.AxesSubplot object at 0x7fba28faf410>],\n",
       "       [<matplotlib.axes._subplots.AxesSubplot object at 0x7fba28f67b10>,\n",
       "        <matplotlib.axes._subplots.AxesSubplot object at 0x7fba28f2a110>,\n",
       "        <matplotlib.axes._subplots.AxesSubplot object at 0x7fba28f2a150>]],\n",
       "      dtype=object)"
      ]
     },
     "execution_count": 7,
     "metadata": {},
     "output_type": "execute_result"
    },
    {
     "data": {
      "image/png": "[encoded data removed]",
      "text/plain": [
       "<Figure size 2160x1800 with 9 Axes>"
      ]
     },
     "metadata": {
      "needs_background": "light"
     },
     "output_type": "display_data"
    }
   ],
   "source": [
    "data.hist(bins=50, figsize=(30, 25))"
   ]
  },
  {
   "cell_type": "code",
   "execution_count": 8,
   "metadata": {
    "colab": {
     "base_uri": "https://localhost:8080/",
     "height": 432
    },
    "id": "1U7fsuF3MdUz",
    "outputId": "8a9c5c7e-06f5-4f49-f18c-e86055b30429"
   },
   "outputs": [
    {
     "data": {
      "text/plain": [
       "<matplotlib.axes._subplots.AxesSubplot at 0x7fba28c65c90>"
      ]
     },
     "execution_count": 8,
     "metadata": {},
     "output_type": "execute_result"
    },
    {
     "data": {
      "image/png": "[encoded data removed]",
      "text/plain": [
       "<Figure size 792x504 with 1 Axes>"
      ]
     },
     "metadata": {
      "needs_background": "light"
     },
     "output_type": "display_data"
    }
   ],
   "source": [
    "f, ax = plt.subplots(figsize=(11,7))\n",
    "sns.boxplot(data=data, y='x', ax=ax, color='r')"
   ]
  },
  {
   "cell_type": "code",
   "execution_count": 9,
   "metadata": {
    "colab": {
     "base_uri": "https://localhost:8080/",
     "height": 432
    },
    "id": "Cw8YHBjWNY-g",
    "outputId": "d3a0c5ef-22df-4911-e91f-e3c3b776edf9"
   },
   "outputs": [
    {
     "data": {
      "text/plain": [
       "<matplotlib.axes._subplots.AxesSubplot at 0x7fba2837afd0>"
      ]
     },
     "execution_count": 9,
     "metadata": {},
     "output_type": "execute_result"
    },
    {
     "data": {
      "image/png": "[encoded data removed]",
      "text/plain": [
       "<Figure size 792x504 with 1 Axes>"
      ]
     },
     "metadata": {
      "needs_background": "light"
     },
     "output_type": "display_data"
    }
   ],
   "source": [
    "f, ax = plt.subplots(figsize=(11,7))\n",
    "sns.boxplot(data=data, y='y', ax=ax, color='b')"
   ]
  },
  {
   "cell_type": "code",
   "execution_count": 10,
   "metadata": {
    "colab": {
     "base_uri": "https://localhost:8080/",
     "height": 432
    },
    "id": "6_AVO9CANd-X",
    "outputId": "aba3ea1e-a02c-4189-e15a-287c112408e5"
   },
   "outputs": [
    {
     "data": {
      "text/plain": [
       "<matplotlib.axes._subplots.AxesSubplot at 0x7fba282c4890>"
      ]
     },
     "execution_count": 10,
     "metadata": {},
     "output_type": "execute_result"
    },
    {
     "data": {
      "image/png": "[encoded data removed]",
      "text/plain": [
       "<Figure size 792x504 with 1 Axes>"
      ]
     },
     "metadata": {
      "needs_background": "light"
     },
     "output_type": "display_data"
    }
   ],
   "source": [
    "f, ax = plt.subplots(figsize=(11,7))\n",
    "sns.boxplot(data=data, y='z', ax=ax, color='g')"
   ]
  },
  {
   "cell_type": "code",
   "execution_count": 11,
   "metadata": {
    "colab": {
     "base_uri": "https://localhost:8080/"
    },
    "id": "EUk-uwfTjtLM",
    "outputId": "e731f55a-24a7-43bb-95a7-e26dd40bb2cd"
   },
   "outputs": [
    {
     "data": {
      "text/plain": [
       "Unnamed: 0    0\n",
       "carat         0\n",
       "cut           0\n",
       "color         0\n",
       "clarity       0\n",
       "depth         0\n",
       "table         0\n",
       "price         0\n",
       "x             0\n",
       "y             0\n",
       "z             0\n",
       "dtype: int64"
      ]
     },
     "execution_count": 11,
     "metadata": {},
     "output_type": "execute_result"
    }
   ],
   "source": [
    "data.isna().sum()"
   ]
  },
  {
   "cell_type": "code",
   "execution_count": 12,
   "metadata": {
    "colab": {
     "base_uri": "https://localhost:8080/"
    },
    "id": "RrY8Kh-tjtLN",
    "outputId": "b800ffbf-3ccb-47d3-c352-0e1780b26edb"
   },
   "outputs": [
    {
     "data": {
      "text/plain": [
       "Unnamed: 0     0\n",
       "carat          0\n",
       "cut            0\n",
       "color          0\n",
       "clarity        0\n",
       "depth          0\n",
       "table          0\n",
       "price          0\n",
       "x              8\n",
       "y              7\n",
       "z             20\n",
       "dtype: int64"
      ]
     },
     "execution_count": 12,
     "metadata": {},
     "output_type": "execute_result"
    }
   ],
   "source": [
    "(data == 0.0).sum()"
   ]
  },
  {
   "cell_type": "code",
   "execution_count": 13,
   "metadata": {
    "id": "bxR2rXzsjtLN"
   },
   "outputs": [],
   "source": [
    "data.replace(0, np.nan, inplace=True)"
   ]
  },
  {
   "cell_type": "code",
   "execution_count": 14,
   "metadata": {
    "colab": {
     "base_uri": "https://localhost:8080/"
    },
    "id": "-bvc5MdGjtLO",
    "outputId": "8a36eb67-4d51-4df9-d972-aa5a21c1f562"
   },
   "outputs": [
    {
     "data": {
      "text/plain": [
       "Unnamed: 0     0\n",
       "carat          0\n",
       "cut            0\n",
       "color          0\n",
       "clarity        0\n",
       "depth          0\n",
       "table          0\n",
       "price          0\n",
       "x              8\n",
       "y              7\n",
       "z             20\n",
       "dtype: int64"
      ]
     },
     "execution_count": 14,
     "metadata": {},
     "output_type": "execute_result"
    }
   ],
   "source": [
    "data.isna().sum()"
   ]
  },
  {
   "cell_type": "code",
   "execution_count": 15,
   "metadata": {
    "id": "MvcRjwgJjtLO"
   },
   "outputs": [],
   "source": [
    "data.dropna(axis=0, inplace=True)"
   ]
  },
  {
   "cell_type": "code",
   "execution_count": 16,
   "metadata": {
    "id": "Mql2Ca0pjtLP"
   },
   "outputs": [],
   "source": [
    "data.drop('Unnamed: 0', axis=1, inplace=True)"
   ]
  },
  {
   "cell_type": "code",
   "execution_count": 17,
   "metadata": {
    "colab": {
     "base_uri": "https://localhost:8080/",
     "height": 299
    },
    "id": "QpauUKZXNq3R",
    "outputId": "3dc237ba-dddd-4349-8aa3-5fed62d1feb2"
   },
   "outputs": [
    {
     "data": {
      "text/html": [
       "<div>\n",
       "<style scoped>\n",
       "    .dataframe tbody tr th:only-of-type {\n",
       "        vertical-align: middle;\n",
       "    }\n",
       "\n",
       "    .dataframe tbody tr th {\n",
       "        vertical-align: top;\n",
       "    }\n",
       "\n",
       "    .dataframe thead th {\n",
       "        text-align: right;\n",
       "    }\n",
       "</style>\n",
       "<table border=\"1\" class=\"dataframe\">\n",
       "  <thead>\n",
       "    <tr style=\"text-align: right;\">\n",
       "      <th></th>\n",
       "      <th>carat</th>\n",
       "      <th>depth</th>\n",
       "      <th>table</th>\n",
       "      <th>price</th>\n",
       "      <th>x</th>\n",
       "      <th>y</th>\n",
       "      <th>z</th>\n",
       "    </tr>\n",
       "  </thead>\n",
       "  <tbody>\n",
       "    <tr>\n",
       "      <th>count</th>\n",
       "      <td>53920.000000</td>\n",
       "      <td>53920.000000</td>\n",
       "      <td>53920.000000</td>\n",
       "      <td>53920.000000</td>\n",
       "      <td>53920.000000</td>\n",
       "      <td>53920.000000</td>\n",
       "      <td>53920.000000</td>\n",
       "    </tr>\n",
       "    <tr>\n",
       "      <th>mean</th>\n",
       "      <td>0.797698</td>\n",
       "      <td>61.749514</td>\n",
       "      <td>57.456834</td>\n",
       "      <td>3930.993231</td>\n",
       "      <td>5.731627</td>\n",
       "      <td>5.734887</td>\n",
       "      <td>3.540046</td>\n",
       "    </tr>\n",
       "    <tr>\n",
       "      <th>std</th>\n",
       "      <td>0.473795</td>\n",
       "      <td>1.432331</td>\n",
       "      <td>2.234064</td>\n",
       "      <td>3987.280446</td>\n",
       "      <td>1.119423</td>\n",
       "      <td>1.140126</td>\n",
       "      <td>0.702530</td>\n",
       "    </tr>\n",
       "    <tr>\n",
       "      <th>min</th>\n",
       "      <td>0.200000</td>\n",
       "      <td>43.000000</td>\n",
       "      <td>43.000000</td>\n",
       "      <td>326.000000</td>\n",
       "      <td>3.730000</td>\n",
       "      <td>3.680000</td>\n",
       "      <td>1.070000</td>\n",
       "    </tr>\n",
       "    <tr>\n",
       "      <th>25%</th>\n",
       "      <td>0.400000</td>\n",
       "      <td>61.000000</td>\n",
       "      <td>56.000000</td>\n",
       "      <td>949.000000</td>\n",
       "      <td>4.710000</td>\n",
       "      <td>4.720000</td>\n",
       "      <td>2.910000</td>\n",
       "    </tr>\n",
       "    <tr>\n",
       "      <th>50%</th>\n",
       "      <td>0.700000</td>\n",
       "      <td>61.800000</td>\n",
       "      <td>57.000000</td>\n",
       "      <td>2401.000000</td>\n",
       "      <td>5.700000</td>\n",
       "      <td>5.710000</td>\n",
       "      <td>3.530000</td>\n",
       "    </tr>\n",
       "    <tr>\n",
       "      <th>75%</th>\n",
       "      <td>1.040000</td>\n",
       "      <td>62.500000</td>\n",
       "      <td>59.000000</td>\n",
       "      <td>5323.250000</td>\n",
       "      <td>6.540000</td>\n",
       "      <td>6.540000</td>\n",
       "      <td>4.040000</td>\n",
       "    </tr>\n",
       "    <tr>\n",
       "      <th>max</th>\n",
       "      <td>5.010000</td>\n",
       "      <td>79.000000</td>\n",
       "      <td>95.000000</td>\n",
       "      <td>18823.000000</td>\n",
       "      <td>10.740000</td>\n",
       "      <td>58.900000</td>\n",
       "      <td>31.800000</td>\n",
       "    </tr>\n",
       "  </tbody>\n",
       "</table>\n",
       "</div>"
      ],
      "text/plain": [
       "              carat         depth  ...             y             z\n",
       "count  53920.000000  53920.000000  ...  53920.000000  53920.000000\n",
       "mean       0.797698     61.749514  ...      5.734887      3.540046\n",
       "std        0.473795      1.432331  ...      1.140126      0.702530\n",
       "min        0.200000     43.000000  ...      3.680000      1.070000\n",
       "25%        0.400000     61.000000  ...      4.720000      2.910000\n",
       "50%        0.700000     61.800000  ...      5.710000      3.530000\n",
       "75%        1.040000     62.500000  ...      6.540000      4.040000\n",
       "max        5.010000     79.000000  ...     58.900000     31.800000\n",
       "\n",
       "[8 rows x 7 columns]"
      ]
     },
     "execution_count": 17,
     "metadata": {},
     "output_type": "execute_result"
    }
   ],
   "source": [
    "data.describe()"
   ]
  },
  {
   "cell_type": "code",
   "execution_count": 18,
   "metadata": {
    "colab": {
     "base_uri": "https://localhost:8080/",
     "height": 432
    },
    "id": "T-sbG4HeN-tt",
    "outputId": "c5b3b6a8-1488-4ee8-a526-041f45ae83af"
   },
   "outputs": [
    {
     "data": {
      "text/plain": [
       "<matplotlib.axes._subplots.AxesSubplot at 0x7fba27fca310>"
      ]
     },
     "execution_count": 18,
     "metadata": {},
     "output_type": "execute_result"
    },
    {
     "data": {
      "image/png": "[encoded data removed]",
      "text/plain": [
       "<Figure size 792x504 with 1 Axes>"
      ]
     },
     "metadata": {
      "needs_background": "light"
     },
     "output_type": "display_data"
    }
   ],
   "source": [
    "f, ax = plt.subplots(figsize=(11,7))\n",
    "sns.boxplot(data=data, y='x', ax=ax, color='r')"
   ]
  },
  {
   "cell_type": "code",
   "execution_count": 19,
   "metadata": {
    "colab": {
     "base_uri": "https://localhost:8080/",
     "height": 432
    },
    "id": "rQra3CKpN-tt",
    "outputId": "ae742065-c994-4ffe-e5ca-4d905f2e6788"
   },
   "outputs": [
    {
     "data": {
      "text/plain": [
       "<matplotlib.axes._subplots.AxesSubplot at 0x7fba27f49f90>"
      ]
     },
     "execution_count": 19,
     "metadata": {},
     "output_type": "execute_result"
    },
    {
     "data": {
      "image/png": "[encoded data removed]",
      "text/plain": [
       "<Figure size 792x504 with 1 Axes>"
      ]
     },
     "metadata": {
      "needs_background": "light"
     },
     "output_type": "display_data"
    }
   ],
   "source": [
    "f, ax = plt.subplots(figsize=(11,7))\n",
    "sns.boxplot(data=data, y='y', ax=ax, color='b')"
   ]
  },
  {
   "cell_type": "code",
   "execution_count": 20,
   "metadata": {
    "colab": {
     "base_uri": "https://localhost:8080/",
     "height": 432
    },
    "id": "adkQLHF0N-tu",
    "outputId": "0bef0623-55d4-4e83-c9de-98d05d5755a5"
   },
   "outputs": [
    {
     "data": {
      "text/plain": [
       "<matplotlib.axes._subplots.AxesSubplot at 0x7fba27f30710>"
      ]
     },
     "execution_count": 20,
     "metadata": {},
     "output_type": "execute_result"
    },
    {
     "data": {
      "image/png": "[encoded data removed]",
      "text/plain": [
       "<Figure size 792x504 with 1 Axes>"
      ]
     },
     "metadata": {
      "needs_background": "light"
     },
     "output_type": "display_data"
    }
   ],
   "source": [
    "f, ax = plt.subplots(figsize=(11,7))\n",
    "sns.boxplot(data=data, y='z', ax=ax, color='g')"
   ]
  },
  {
   "cell_type": "code",
   "execution_count": 21,
   "metadata": {
    "id": "4yLQiI8QOGhj"
   },
   "outputs": [],
   "source": [
    "def remove_outLier_IQR(df):\n",
    "  q1 = df.quantile(0.25)\n",
    "  q3 = df.quantile(0.75)\n",
    "  IQR = q3 - q1\n",
    "  new_df = df[~((df<(q1-2.5*IQR)) | (df>(q3+2.5*IQR)))]\n",
    "  return new_df"
   ]
  },
  {
   "cell_type": "code",
   "execution_count": 22,
   "metadata": {
    "colab": {
     "base_uri": "https://localhost:8080/",
     "height": 222
    },
    "id": "QNLm8OLfjtLK",
    "outputId": "220dc247-0158-4da4-ce8c-f4406b743c9d"
   },
   "outputs": [
    {
     "name": "stdout",
     "output_type": "stream",
     "text": [
      "53920\n"
     ]
    },
    {
     "data": {
      "text/html": [
       "<div>\n",
       "<style scoped>\n",
       "    .dataframe tbody tr th:only-of-type {\n",
       "        vertical-align: middle;\n",
       "    }\n",
       "\n",
       "    .dataframe tbody tr th {\n",
       "        vertical-align: top;\n",
       "    }\n",
       "\n",
       "    .dataframe thead th {\n",
       "        text-align: right;\n",
       "    }\n",
       "</style>\n",
       "<table border=\"1\" class=\"dataframe\">\n",
       "  <thead>\n",
       "    <tr style=\"text-align: right;\">\n",
       "      <th></th>\n",
       "      <th>carat</th>\n",
       "      <th>depth</th>\n",
       "      <th>table</th>\n",
       "      <th>price</th>\n",
       "      <th>x</th>\n",
       "      <th>y</th>\n",
       "      <th>z</th>\n",
       "    </tr>\n",
       "  </thead>\n",
       "  <tbody>\n",
       "    <tr>\n",
       "      <th>0</th>\n",
       "      <td>0.23</td>\n",
       "      <td>61.5</td>\n",
       "      <td>55.0</td>\n",
       "      <td>326</td>\n",
       "      <td>3.95</td>\n",
       "      <td>3.98</td>\n",
       "      <td>2.43</td>\n",
       "    </tr>\n",
       "    <tr>\n",
       "      <th>1</th>\n",
       "      <td>0.21</td>\n",
       "      <td>59.8</td>\n",
       "      <td>61.0</td>\n",
       "      <td>326</td>\n",
       "      <td>3.89</td>\n",
       "      <td>3.84</td>\n",
       "      <td>2.31</td>\n",
       "    </tr>\n",
       "    <tr>\n",
       "      <th>2</th>\n",
       "      <td>0.23</td>\n",
       "      <td>56.9</td>\n",
       "      <td>65.0</td>\n",
       "      <td>327</td>\n",
       "      <td>4.05</td>\n",
       "      <td>4.07</td>\n",
       "      <td>2.31</td>\n",
       "    </tr>\n",
       "    <tr>\n",
       "      <th>3</th>\n",
       "      <td>0.29</td>\n",
       "      <td>62.4</td>\n",
       "      <td>58.0</td>\n",
       "      <td>334</td>\n",
       "      <td>4.20</td>\n",
       "      <td>4.23</td>\n",
       "      <td>2.63</td>\n",
       "    </tr>\n",
       "    <tr>\n",
       "      <th>4</th>\n",
       "      <td>0.31</td>\n",
       "      <td>63.3</td>\n",
       "      <td>58.0</td>\n",
       "      <td>335</td>\n",
       "      <td>4.34</td>\n",
       "      <td>4.35</td>\n",
       "      <td>2.75</td>\n",
       "    </tr>\n",
       "  </tbody>\n",
       "</table>\n",
       "</div>"
      ],
      "text/plain": [
       "   carat  depth  table  price     x     y     z\n",
       "0   0.23   61.5   55.0    326  3.95  3.98  2.43\n",
       "1   0.21   59.8   61.0    326  3.89  3.84  2.31\n",
       "2   0.23   56.9   65.0    327  4.05  4.07  2.31\n",
       "3   0.29   62.4   58.0    334  4.20  4.23  2.63\n",
       "4   0.31   63.3   58.0    335  4.34  4.35  2.75"
      ]
     },
     "execution_count": 22,
     "metadata": {},
     "output_type": "execute_result"
    }
   ],
   "source": [
    "sub_data = data.drop(['cut', 'color', 'clarity'], axis=1)\n",
    "print(len(sub_data))\n",
    "sub_data.head(5)"
   ]
  },
  {
   "cell_type": "code",
   "execution_count": 23,
   "metadata": {
    "id": "HyRciwnQSOuX"
   },
   "outputs": [],
   "source": [
    "attrib = list(sub_data)\n",
    "def remove_outLier_from_data(df):\n",
    "  for i in attrib:\n",
    "    df_outlier_removed = remove_outLier_IQR(df[i])\n",
    "    df_outlier_removed = pd.DataFrame(df_outlier_removed)\n",
    "    ind_diff=df.index.difference(df_outlier_removed.index)\n",
    "    print(i, ': ', len(ind_diff))\n",
    "    for j in range(0, len(ind_diff), 1):\n",
    "      final_df = df.drop([ind_diff[j]])\n",
    "      df = final_df\n",
    "  return df"
   ]
  },
  {
   "cell_type": "code",
   "execution_count": 24,
   "metadata": {
    "colab": {
     "base_uri": "https://localhost:8080/"
    },
    "id": "iCEpDObrT__W",
    "outputId": "34d96bb0-3849-4ade-dd2a-cbf878e31fd1"
   },
   "outputs": [
    {
     "name": "stdout",
     "output_type": "stream",
     "text": [
      "carat :  59\n",
      "depth :  576\n",
      "table :  62\n",
      "price :  1007\n",
      "x :  0\n",
      "y :  2\n",
      "z :  1\n"
     ]
    }
   ],
   "source": [
    "new_data = remove_outLier_from_data(data)"
   ]
  },
  {
   "cell_type": "code",
   "execution_count": 25,
   "metadata": {
    "colab": {
     "base_uri": "https://localhost:8080/"
    },
    "id": "6mZrKBZdUQvK",
    "outputId": "8916bde2-4203-4e46-984a-befeeae0f0c2"
   },
   "outputs": [
    {
     "data": {
      "text/plain": [
       "52213"
      ]
     },
     "execution_count": 25,
     "metadata": {},
     "output_type": "execute_result"
    }
   ],
   "source": [
    "len(new_data)"
   ]
  },
  {
   "cell_type": "code",
   "execution_count": 26,
   "metadata": {
    "colab": {
     "base_uri": "https://localhost:8080/",
     "height": 205
    },
    "id": "gz9uKXgXiq9l",
    "outputId": "4c3dad62-91e5-480e-bfbb-62de32717fc5"
   },
   "outputs": [
    {
     "data": {
      "text/html": [
       "<div>\n",
       "<style scoped>\n",
       "    .dataframe tbody tr th:only-of-type {\n",
       "        vertical-align: middle;\n",
       "    }\n",
       "\n",
       "    .dataframe tbody tr th {\n",
       "        vertical-align: top;\n",
       "    }\n",
       "\n",
       "    .dataframe thead th {\n",
       "        text-align: right;\n",
       "    }\n",
       "</style>\n",
       "<table border=\"1\" class=\"dataframe\">\n",
       "  <thead>\n",
       "    <tr style=\"text-align: right;\">\n",
       "      <th></th>\n",
       "      <th>carat</th>\n",
       "      <th>cut</th>\n",
       "      <th>color</th>\n",
       "      <th>clarity</th>\n",
       "      <th>depth</th>\n",
       "      <th>table</th>\n",
       "      <th>price</th>\n",
       "      <th>x</th>\n",
       "      <th>y</th>\n",
       "      <th>z</th>\n",
       "    </tr>\n",
       "  </thead>\n",
       "  <tbody>\n",
       "    <tr>\n",
       "      <th>0</th>\n",
       "      <td>0.23</td>\n",
       "      <td>Ideal</td>\n",
       "      <td>E</td>\n",
       "      <td>SI2</td>\n",
       "      <td>61.5</td>\n",
       "      <td>55.0</td>\n",
       "      <td>326</td>\n",
       "      <td>3.95</td>\n",
       "      <td>3.98</td>\n",
       "      <td>2.43</td>\n",
       "    </tr>\n",
       "    <tr>\n",
       "      <th>1</th>\n",
       "      <td>0.21</td>\n",
       "      <td>Premium</td>\n",
       "      <td>E</td>\n",
       "      <td>SI1</td>\n",
       "      <td>59.8</td>\n",
       "      <td>61.0</td>\n",
       "      <td>326</td>\n",
       "      <td>3.89</td>\n",
       "      <td>3.84</td>\n",
       "      <td>2.31</td>\n",
       "    </tr>\n",
       "    <tr>\n",
       "      <th>3</th>\n",
       "      <td>0.29</td>\n",
       "      <td>Premium</td>\n",
       "      <td>I</td>\n",
       "      <td>VS2</td>\n",
       "      <td>62.4</td>\n",
       "      <td>58.0</td>\n",
       "      <td>334</td>\n",
       "      <td>4.20</td>\n",
       "      <td>4.23</td>\n",
       "      <td>2.63</td>\n",
       "    </tr>\n",
       "    <tr>\n",
       "      <th>4</th>\n",
       "      <td>0.31</td>\n",
       "      <td>Good</td>\n",
       "      <td>J</td>\n",
       "      <td>SI2</td>\n",
       "      <td>63.3</td>\n",
       "      <td>58.0</td>\n",
       "      <td>335</td>\n",
       "      <td>4.34</td>\n",
       "      <td>4.35</td>\n",
       "      <td>2.75</td>\n",
       "    </tr>\n",
       "    <tr>\n",
       "      <th>5</th>\n",
       "      <td>0.24</td>\n",
       "      <td>Very Good</td>\n",
       "      <td>J</td>\n",
       "      <td>VVS2</td>\n",
       "      <td>62.8</td>\n",
       "      <td>57.0</td>\n",
       "      <td>336</td>\n",
       "      <td>3.94</td>\n",
       "      <td>3.96</td>\n",
       "      <td>2.48</td>\n",
       "    </tr>\n",
       "  </tbody>\n",
       "</table>\n",
       "</div>"
      ],
      "text/plain": [
       "   carat        cut color clarity  depth  table  price     x     y     z\n",
       "0   0.23      Ideal     E     SI2   61.5   55.0    326  3.95  3.98  2.43\n",
       "1   0.21    Premium     E     SI1   59.8   61.0    326  3.89  3.84  2.31\n",
       "3   0.29    Premium     I     VS2   62.4   58.0    334  4.20  4.23  2.63\n",
       "4   0.31       Good     J     SI2   63.3   58.0    335  4.34  4.35  2.75\n",
       "5   0.24  Very Good     J    VVS2   62.8   57.0    336  3.94  3.96  2.48"
      ]
     },
     "execution_count": 26,
     "metadata": {},
     "output_type": "execute_result"
    }
   ],
   "source": [
    "new_data.head(5)"
   ]
  },
  {
   "cell_type": "code",
   "execution_count": 27,
   "metadata": {
    "id": "ASsVyla1jtLL"
   },
   "outputs": [],
   "source": [
    "backUp_data = data.copy()"
   ]
  },
  {
   "cell_type": "code",
   "execution_count": 28,
   "metadata": {
    "id": "IBnKiEYqjtLM"
   },
   "outputs": [],
   "source": [
    "data_corr = sub_data.corr()"
   ]
  },
  {
   "cell_type": "code",
   "execution_count": 29,
   "metadata": {
    "colab": {
     "base_uri": "https://localhost:8080/"
    },
    "id": "SzTfVon_jtLM",
    "outputId": "0fd133f6-0d3d-430c-99cd-0c0765dc71e2"
   },
   "outputs": [
    {
     "data": {
      "text/plain": [
       "carat    0.921592\n",
       "depth   -0.010729\n",
       "table    0.127245\n",
       "price    1.000000\n",
       "x        0.887231\n",
       "y        0.867864\n",
       "z        0.868206\n",
       "Name: price, dtype: float64"
      ]
     },
     "execution_count": 29,
     "metadata": {},
     "output_type": "execute_result"
    }
   ],
   "source": [
    "data_corr['price']"
   ]
  },
  {
   "cell_type": "code",
   "execution_count": 30,
   "metadata": {
    "colab": {
     "base_uri": "https://localhost:8080/",
     "height": 449
    },
    "id": "ZzGeuooCjtLQ",
    "outputId": "a816aa28-0db9-45ed-85d4-fdadbb3ca5f1"
   },
   "outputs": [
    {
     "data": {
      "text/plain": [
       "<matplotlib.axes._subplots.AxesSubplot at 0x7fba27ead850>"
      ]
     },
     "execution_count": 30,
     "metadata": {},
     "output_type": "execute_result"
    },
    {
     "data": {
      "image/png": "[encoded data removed]",
      "text/plain": [
       "<Figure size 792x504 with 2 Axes>"
      ]
     },
     "metadata": {
      "needs_background": "light"
     },
     "output_type": "display_data"
    }
   ],
   "source": [
    "f, ax = plt.subplots(figsize=(11,7))\n",
    "sns.heatmap(data_corr, annot=True, linewidths=0.5, ax=ax, cmap=\"YlGnBu\")"
   ]
  },
  {
   "cell_type": "code",
   "execution_count": 31,
   "metadata": {
    "colab": {
     "base_uri": "https://localhost:8080/",
     "height": 296
    },
    "id": "dwLqyrE8jtLQ",
    "outputId": "9c9435ae-3485-4cc1-93a3-d6b03ffd0bca"
   },
   "outputs": [
    {
     "data": {
      "text/plain": [
       "<matplotlib.axes._subplots.AxesSubplot at 0x7fba2896c650>"
      ]
     },
     "execution_count": 31,
     "metadata": {},
     "output_type": "execute_result"
    },
    {
     "data": {
      "image/png": "[encoded data removed]",
      "text/plain": [
       "<Figure size 432x288 with 1 Axes>"
      ]
     },
     "metadata": {
      "needs_background": "light"
     },
     "output_type": "display_data"
    }
   ],
   "source": [
    "data.plot(kind='scatter', x='price', y='carat')"
   ]
  },
  {
   "cell_type": "code",
   "execution_count": 32,
   "metadata": {
    "colab": {
     "base_uri": "https://localhost:8080/"
    },
    "id": "zCwrDPghjtLQ",
    "outputId": "b0ec4b0a-8fed-4a55-b073-3a09ea04b696"
   },
   "outputs": [
    {
     "data": {
      "text/plain": [
       "Ideal        21548\n",
       "Premium      13780\n",
       "Very Good    12081\n",
       "Good          4902\n",
       "Fair          1609\n",
       "Name: cut, dtype: int64"
      ]
     },
     "execution_count": 32,
     "metadata": {},
     "output_type": "execute_result"
    }
   ],
   "source": [
    "data['cut'].value_counts()"
   ]
  },
  {
   "cell_type": "code",
   "execution_count": 33,
   "metadata": {
    "colab": {
     "base_uri": "https://localhost:8080/"
    },
    "id": "AmYwmpGSjtLQ",
    "outputId": "44e95160-58b1-45aa-a85b-4e903e004375"
   },
   "outputs": [
    {
     "data": {
      "text/plain": [
       "G    11284\n",
       "E     9797\n",
       "F     9538\n",
       "H     8298\n",
       "D     6774\n",
       "I     5421\n",
       "J     2808\n",
       "Name: color, dtype: int64"
      ]
     },
     "execution_count": 33,
     "metadata": {},
     "output_type": "execute_result"
    }
   ],
   "source": [
    "data['color'].value_counts()"
   ]
  },
  {
   "cell_type": "code",
   "execution_count": 34,
   "metadata": {
    "colab": {
     "base_uri": "https://localhost:8080/"
    },
    "id": "DAKvUEj2jtLR",
    "outputId": "eb4984d9-07b6-4bfa-b911-c16081e43e69"
   },
   "outputs": [
    {
     "data": {
      "text/plain": [
       "SI1     13063\n",
       "VS2     12254\n",
       "SI2      9185\n",
       "VS1      8170\n",
       "VVS2     5066\n",
       "VVS1     3654\n",
       "IF       1790\n",
       "I1        738\n",
       "Name: clarity, dtype: int64"
      ]
     },
     "execution_count": 34,
     "metadata": {},
     "output_type": "execute_result"
    }
   ],
   "source": [
    "data['clarity'].value_counts()"
   ]
  },
  {
   "cell_type": "code",
   "execution_count": 35,
   "metadata": {
    "id": "WRxO3x0rjtLT"
   },
   "outputs": [],
   "source": [
    "from sklearn.model_selection import train_test_split\n",
    "train_set,test_set=train_test_split(new_data,random_state=42, test_size=0.2)"
   ]
  },
  {
   "cell_type": "code",
   "execution_count": 36,
   "metadata": {
    "colab": {
     "base_uri": "https://localhost:8080/"
    },
    "id": "9lFuNBWhtWDQ",
    "outputId": "949e6d27-b984-444c-cc7a-19575d31ed80"
   },
   "outputs": [
    {
     "data": {
      "text/plain": [
       "price     1.000000\n",
       "carat     0.921592\n",
       "volume    0.904255\n",
       "x         0.887231\n",
       "z         0.868206\n",
       "y         0.867864\n",
       "table     0.127245\n",
       "depth    -0.010729\n",
       "Name: price, dtype: float64"
      ]
     },
     "execution_count": 36,
     "metadata": {},
     "output_type": "execute_result"
    }
   ],
   "source": [
    "data['volume'] = data['x'] * data['y'] * data['z']\n",
    "new_corr1 = data.corr()\n",
    "new_corr1['price'].sort_values(ascending=False)"
   ]
  },
  {
   "cell_type": "code",
   "execution_count": 37,
   "metadata": {
    "colab": {
     "base_uri": "https://localhost:8080/",
     "height": 299
    },
    "id": "aFHt7hEZjtLT",
    "outputId": "cf911f68-968a-458e-ea7b-486a0b8b6c20"
   },
   "outputs": [
    {
     "data": {
      "text/plain": [
       "<matplotlib.axes._subplots.AxesSubplot at 0x7fba28944b10>"
      ]
     },
     "execution_count": 37,
     "metadata": {},
     "output_type": "execute_result"
    },
    {
     "data": {
      "image/png": "[encoded data removed]",
      "text/plain": [
       "<Figure size 432x288 with 1 Axes>"
      ]
     },
     "metadata": {
      "needs_background": "light"
     },
     "output_type": "display_data"
    }
   ],
   "source": [
    "data.plot(kind='scatter', x='price', y='volume')"
   ]
  },
  {
   "cell_type": "code",
   "execution_count": 38,
   "metadata": {
    "id": "p2qkDLMvjtLT"
   },
   "outputs": [],
   "source": [
    "\n",
    "target = train_set['price'].copy()\n",
    "data = train_set.drop('price', axis=1)"
   ]
  },
  {
   "cell_type": "code",
   "execution_count": 39,
   "metadata": {
    "colab": {
     "base_uri": "https://localhost:8080/"
    },
    "id": "bIRna6p8jtLR",
    "outputId": "11cf270d-fc7e-4d0b-fb38-0fa3a1498ec2"
   },
   "outputs": [
    {
     "data": {
      "text/plain": [
       "array([[3., 3., 2.],\n",
       "       [4., 5., 3.],\n",
       "       [4., 1., 2.],\n",
       "       [2., 2., 3.],\n",
       "       [4., 3., 4.],\n",
       "       [4., 2., 3.],\n",
       "       [4., 4., 3.],\n",
       "       [4., 5., 1.],\n",
       "       [4., 4., 2.],\n",
       "       [4., 5., 4.]])"
      ]
     },
     "execution_count": 39,
     "metadata": {},
     "output_type": "execute_result"
    }
   ],
   "source": [
    "from sklearn.preprocessing import OrdinalEncoder\n",
    "diamond_cat = data[['cut', 'color', 'clarity']]\n",
    "ordinal_encoder = OrdinalEncoder(categories = [['Fair', 'Good', 'Very Good', 'Premium', 'Ideal'], \n",
    "                                               ['J', 'I', 'H', 'G', 'F', 'E', 'D'],\n",
    "                                              ['I1', 'SI2', 'SI1', 'VS2', 'VS1', 'VVS2', 'VVS1', 'IF']])\n",
    "diamond_cat_encoded = ordinal_encoder.fit_transform(diamond_cat)\n",
    "diamond_cat_encoded[:10]"
   ]
  },
  {
   "cell_type": "code",
   "execution_count": 40,
   "metadata": {
    "colab": {
     "base_uri": "https://localhost:8080/",
     "height": 422
    },
    "id": "N4UDKN_CzwZy",
    "outputId": "fc474281-abe0-4c24-8717-aee95a80450b"
   },
   "outputs": [
    {
     "data": {
      "text/html": [
       "<div>\n",
       "<style scoped>\n",
       "    .dataframe tbody tr th:only-of-type {\n",
       "        vertical-align: middle;\n",
       "    }\n",
       "\n",
       "    .dataframe tbody tr th {\n",
       "        vertical-align: top;\n",
       "    }\n",
       "\n",
       "    .dataframe thead th {\n",
       "        text-align: right;\n",
       "    }\n",
       "</style>\n",
       "<table border=\"1\" class=\"dataframe\">\n",
       "  <thead>\n",
       "    <tr style=\"text-align: right;\">\n",
       "      <th></th>\n",
       "      <th>cut</th>\n",
       "      <th>color</th>\n",
       "      <th>clarity</th>\n",
       "    </tr>\n",
       "  </thead>\n",
       "  <tbody>\n",
       "    <tr>\n",
       "      <th>0</th>\n",
       "      <td>3.0</td>\n",
       "      <td>3.0</td>\n",
       "      <td>2.0</td>\n",
       "    </tr>\n",
       "    <tr>\n",
       "      <th>1</th>\n",
       "      <td>4.0</td>\n",
       "      <td>5.0</td>\n",
       "      <td>3.0</td>\n",
       "    </tr>\n",
       "    <tr>\n",
       "      <th>2</th>\n",
       "      <td>4.0</td>\n",
       "      <td>1.0</td>\n",
       "      <td>2.0</td>\n",
       "    </tr>\n",
       "    <tr>\n",
       "      <th>3</th>\n",
       "      <td>2.0</td>\n",
       "      <td>2.0</td>\n",
       "      <td>3.0</td>\n",
       "    </tr>\n",
       "    <tr>\n",
       "      <th>4</th>\n",
       "      <td>4.0</td>\n",
       "      <td>3.0</td>\n",
       "      <td>4.0</td>\n",
       "    </tr>\n",
       "    <tr>\n",
       "      <th>...</th>\n",
       "      <td>...</td>\n",
       "      <td>...</td>\n",
       "      <td>...</td>\n",
       "    </tr>\n",
       "    <tr>\n",
       "      <th>41765</th>\n",
       "      <td>1.0</td>\n",
       "      <td>2.0</td>\n",
       "      <td>1.0</td>\n",
       "    </tr>\n",
       "    <tr>\n",
       "      <th>41766</th>\n",
       "      <td>4.0</td>\n",
       "      <td>5.0</td>\n",
       "      <td>4.0</td>\n",
       "    </tr>\n",
       "    <tr>\n",
       "      <th>41767</th>\n",
       "      <td>3.0</td>\n",
       "      <td>3.0</td>\n",
       "      <td>3.0</td>\n",
       "    </tr>\n",
       "    <tr>\n",
       "      <th>41768</th>\n",
       "      <td>3.0</td>\n",
       "      <td>4.0</td>\n",
       "      <td>3.0</td>\n",
       "    </tr>\n",
       "    <tr>\n",
       "      <th>41769</th>\n",
       "      <td>2.0</td>\n",
       "      <td>3.0</td>\n",
       "      <td>3.0</td>\n",
       "    </tr>\n",
       "  </tbody>\n",
       "</table>\n",
       "<p>41770 rows × 3 columns</p>\n",
       "</div>"
      ],
      "text/plain": [
       "       cut  color  clarity\n",
       "0      3.0    3.0      2.0\n",
       "1      4.0    5.0      3.0\n",
       "2      4.0    1.0      2.0\n",
       "3      2.0    2.0      3.0\n",
       "4      4.0    3.0      4.0\n",
       "...    ...    ...      ...\n",
       "41765  1.0    2.0      1.0\n",
       "41766  4.0    5.0      4.0\n",
       "41767  3.0    3.0      3.0\n",
       "41768  3.0    4.0      3.0\n",
       "41769  2.0    3.0      3.0\n",
       "\n",
       "[41770 rows x 3 columns]"
      ]
     },
     "execution_count": 40,
     "metadata": {},
     "output_type": "execute_result"
    }
   ],
   "source": [
    "cat_df = pd.DataFrame(diamond_cat_encoded, columns=['cut', 'color', 'clarity'])\n",
    "cat_df"
   ]
  },
  {
   "cell_type": "code",
   "execution_count": 41,
   "metadata": {
    "colab": {
     "base_uri": "https://localhost:8080/",
     "height": 422
    },
    "id": "DUY9zJjQ2Cj5",
    "outputId": "c34548a5-b927-42da-86f9-6a24c5a4d0b8"
   },
   "outputs": [
    {
     "data": {
      "text/html": [
       "<div>\n",
       "<style scoped>\n",
       "    .dataframe tbody tr th:only-of-type {\n",
       "        vertical-align: middle;\n",
       "    }\n",
       "\n",
       "    .dataframe tbody tr th {\n",
       "        vertical-align: top;\n",
       "    }\n",
       "\n",
       "    .dataframe thead th {\n",
       "        text-align: right;\n",
       "    }\n",
       "</style>\n",
       "<table border=\"1\" class=\"dataframe\">\n",
       "  <thead>\n",
       "    <tr style=\"text-align: right;\">\n",
       "      <th></th>\n",
       "      <th>price</th>\n",
       "    </tr>\n",
       "  </thead>\n",
       "  <tbody>\n",
       "    <tr>\n",
       "      <th>0</th>\n",
       "      <td>13417</td>\n",
       "    </tr>\n",
       "    <tr>\n",
       "      <th>1</th>\n",
       "      <td>844</td>\n",
       "    </tr>\n",
       "    <tr>\n",
       "      <th>2</th>\n",
       "      <td>3392</td>\n",
       "    </tr>\n",
       "    <tr>\n",
       "      <th>3</th>\n",
       "      <td>10023</td>\n",
       "    </tr>\n",
       "    <tr>\n",
       "      <th>4</th>\n",
       "      <td>666</td>\n",
       "    </tr>\n",
       "    <tr>\n",
       "      <th>...</th>\n",
       "      <td>...</td>\n",
       "    </tr>\n",
       "    <tr>\n",
       "      <th>41765</th>\n",
       "      <td>5018</td>\n",
       "    </tr>\n",
       "    <tr>\n",
       "      <th>41766</th>\n",
       "      <td>1758</td>\n",
       "    </tr>\n",
       "    <tr>\n",
       "      <th>41767</th>\n",
       "      <td>1087</td>\n",
       "    </tr>\n",
       "    <tr>\n",
       "      <th>41768</th>\n",
       "      <td>2874</td>\n",
       "    </tr>\n",
       "    <tr>\n",
       "      <th>41769</th>\n",
       "      <td>6415</td>\n",
       "    </tr>\n",
       "  </tbody>\n",
       "</table>\n",
       "<p>41770 rows × 1 columns</p>\n",
       "</div>"
      ],
      "text/plain": [
       "       price\n",
       "0      13417\n",
       "1        844\n",
       "2       3392\n",
       "3      10023\n",
       "4        666\n",
       "...      ...\n",
       "41765   5018\n",
       "41766   1758\n",
       "41767   1087\n",
       "41768   2874\n",
       "41769   6415\n",
       "\n",
       "[41770 rows x 1 columns]"
      ]
     },
     "execution_count": 41,
     "metadata": {},
     "output_type": "execute_result"
    }
   ],
   "source": [
    "price_df = pd.DataFrame(target, columns=['price'])\n",
    "price_df = price_df.reset_index()\n",
    "price_df.drop('index', axis=1, inplace=True)\n",
    "price_df"
   ]
  },
  {
   "cell_type": "code",
   "execution_count": 42,
   "metadata": {
    "colab": {
     "base_uri": "https://localhost:8080/"
    },
    "id": "R2KX0b4X23Xt",
    "outputId": "1a43e874-74f0-4f1a-c739-ef9479ff6d76"
   },
   "outputs": [
    {
     "data": {
      "text/plain": [
       "cut        0\n",
       "color      0\n",
       "clarity    0\n",
       "price      0\n",
       "dtype: int64"
      ]
     },
     "execution_count": 42,
     "metadata": {},
     "output_type": "execute_result"
    }
   ],
   "source": [
    "cat_price_df = cat_df.merge(price_df, how = 'left', left_index = True, right_index=True)\n",
    "cat_price_df.isna().sum()"
   ]
  },
  {
   "cell_type": "code",
   "execution_count": 43,
   "metadata": {
    "colab": {
     "base_uri": "https://localhost:8080/"
    },
    "id": "i9sFNK9Y7Hou",
    "outputId": "ec1f5008-35fa-4f36-a004-d767a837766a"
   },
   "outputs": [
    {
     "data": {
      "text/plain": [
       "cut       -0.061837\n",
       "color     -0.169101\n",
       "clarity   -0.137702\n",
       "price      1.000000\n",
       "Name: price, dtype: float64"
      ]
     },
     "execution_count": 43,
     "metadata": {},
     "output_type": "execute_result"
    }
   ],
   "source": [
    "new_corr1 = cat_price_df.corr()\n",
    "new_corr1['price']"
   ]
  },
  {
   "cell_type": "code",
   "execution_count": 44,
   "metadata": {
    "id": "JLGd62AlnsLL"
   },
   "outputs": [],
   "source": [
    "from sklearn.base import BaseEstimator, TransformerMixin\n",
    "class Volume(BaseEstimator, TransformerMixin):\n",
    "    def __init__(self):\n",
    "        pass\n",
    "    def fit(self, X, y=None):\n",
    "        return self\n",
    "    def transform(self, X, y=None):\n",
    "        volume = X['x'] * X['y'] * X['z']\n",
    "        return np.c_[X, volume]"
   ]
  },
  {
   "cell_type": "code",
   "execution_count": 45,
   "metadata": {
    "colab": {
     "base_uri": "https://localhost:8080/"
    },
    "id": "xocTY_8aqhxg",
    "outputId": "233b6204-a8b6-43d4-83df-f556e148fff2"
   },
   "outputs": [
    {
     "data": {
      "text/plain": [
       "array([[1.7, 'Premium', 'G', ..., 7.55, 4.71, 270.615405],\n",
       "       [0.3, 'Ideal', 'E', ..., 4.36, 2.63, 50.224584],\n",
       "       [0.85, 'Ideal', 'I', ..., 6.12, 3.74, 138.70612799999998],\n",
       "       ...,\n",
       "       [0.42, 'Premium', 'G', ..., 4.76, 2.99, 68.31552],\n",
       "       [0.78, 'Premium', 'F', ..., 5.82, 3.67, 126.234054],\n",
       "       [1.08, 'Very Good', 'G', ..., 6.54, 4.06, 172.59059999999997]],\n",
       "      dtype=object)"
      ]
     },
     "execution_count": 45,
     "metadata": {},
     "output_type": "execute_result"
    }
   ],
   "source": [
    "vul_com = Volume()\n",
    "vul_values = vul_com.transform(data)\n",
    "vul_values"
   ]
  },
  {
   "cell_type": "code",
   "execution_count": 46,
   "metadata": {
    "id": "y1gnKjwK7pQU"
   },
   "outputs": [],
   "source": [
    "from sklearn.pipeline import Pipeline\n",
    "from sklearn.preprocessing import StandardScaler\n",
    "from sklearn.compose import ColumnTransformer"
   ]
  },
  {
   "cell_type": "code",
   "execution_count": 47,
   "metadata": {
    "colab": {
     "base_uri": "https://localhost:8080/",
     "height": 205
    },
    "id": "97Zq0wxn8FYJ",
    "outputId": "6cd2b171-00ce-4071-85aa-dd8bd926c01c"
   },
   "outputs": [
    {
     "data": {
      "text/html": [
       "<div>\n",
       "<style scoped>\n",
       "    .dataframe tbody tr th:only-of-type {\n",
       "        vertical-align: middle;\n",
       "    }\n",
       "\n",
       "    .dataframe tbody tr th {\n",
       "        vertical-align: top;\n",
       "    }\n",
       "\n",
       "    .dataframe thead th {\n",
       "        text-align: right;\n",
       "    }\n",
       "</style>\n",
       "<table border=\"1\" class=\"dataframe\">\n",
       "  <thead>\n",
       "    <tr style=\"text-align: right;\">\n",
       "      <th></th>\n",
       "      <th>carat</th>\n",
       "      <th>cut</th>\n",
       "      <th>color</th>\n",
       "      <th>clarity</th>\n",
       "      <th>depth</th>\n",
       "      <th>table</th>\n",
       "      <th>x</th>\n",
       "      <th>y</th>\n",
       "      <th>z</th>\n",
       "    </tr>\n",
       "  </thead>\n",
       "  <tbody>\n",
       "    <tr>\n",
       "      <th>24948</th>\n",
       "      <td>1.70</td>\n",
       "      <td>Premium</td>\n",
       "      <td>G</td>\n",
       "      <td>SI1</td>\n",
       "      <td>62.1</td>\n",
       "      <td>57.0</td>\n",
       "      <td>7.61</td>\n",
       "      <td>7.55</td>\n",
       "      <td>4.71</td>\n",
       "    </tr>\n",
       "    <tr>\n",
       "      <th>33858</th>\n",
       "      <td>0.30</td>\n",
       "      <td>Ideal</td>\n",
       "      <td>E</td>\n",
       "      <td>VS2</td>\n",
       "      <td>60.2</td>\n",
       "      <td>57.0</td>\n",
       "      <td>4.38</td>\n",
       "      <td>4.36</td>\n",
       "      <td>2.63</td>\n",
       "    </tr>\n",
       "    <tr>\n",
       "      <th>3466</th>\n",
       "      <td>0.85</td>\n",
       "      <td>Ideal</td>\n",
       "      <td>I</td>\n",
       "      <td>SI1</td>\n",
       "      <td>61.4</td>\n",
       "      <td>56.0</td>\n",
       "      <td>6.06</td>\n",
       "      <td>6.12</td>\n",
       "      <td>3.74</td>\n",
       "    </tr>\n",
       "    <tr>\n",
       "      <th>21956</th>\n",
       "      <td>1.50</td>\n",
       "      <td>Very Good</td>\n",
       "      <td>H</td>\n",
       "      <td>VS2</td>\n",
       "      <td>60.9</td>\n",
       "      <td>59.0</td>\n",
       "      <td>7.37</td>\n",
       "      <td>7.43</td>\n",
       "      <td>4.51</td>\n",
       "    </tr>\n",
       "    <tr>\n",
       "      <th>28248</th>\n",
       "      <td>0.33</td>\n",
       "      <td>Ideal</td>\n",
       "      <td>G</td>\n",
       "      <td>VS1</td>\n",
       "      <td>62.1</td>\n",
       "      <td>55.0</td>\n",
       "      <td>4.43</td>\n",
       "      <td>4.46</td>\n",
       "      <td>2.76</td>\n",
       "    </tr>\n",
       "  </tbody>\n",
       "</table>\n",
       "</div>"
      ],
      "text/plain": [
       "       carat        cut color clarity  depth  table     x     y     z\n",
       "24948   1.70    Premium     G     SI1   62.1   57.0  7.61  7.55  4.71\n",
       "33858   0.30      Ideal     E     VS2   60.2   57.0  4.38  4.36  2.63\n",
       "3466    0.85      Ideal     I     SI1   61.4   56.0  6.06  6.12  3.74\n",
       "21956   1.50  Very Good     H     VS2   60.9   59.0  7.37  7.43  4.51\n",
       "28248   0.33      Ideal     G     VS1   62.1   55.0  4.43  4.46  2.76"
      ]
     },
     "execution_count": 47,
     "metadata": {},
     "output_type": "execute_result"
    }
   ],
   "source": [
    "data = train_set.drop('price', axis=1)\n",
    "data.head(5)"
   ]
  },
  {
   "cell_type": "code",
   "execution_count": 48,
   "metadata": {
    "id": "YfgFAnRq9A7c"
   },
   "outputs": [],
   "source": [
    "numerical_data = data.drop(['cut', 'color', 'clarity'], axis=1)\n",
    "categorical_data = data[['cut', 'color', 'clarity']].copy()"
   ]
  },
  {
   "cell_type": "code",
   "execution_count": 49,
   "metadata": {
    "colab": {
     "base_uri": "https://localhost:8080/"
    },
    "id": "BKshKDYMEVCm",
    "outputId": "32461afd-8f58-46da-97a0-d28a621fd841"
   },
   "outputs": [
    {
     "data": {
      "text/plain": [
       "['carat', 'depth', 'table', 'x', 'y', 'z', 'volume']"
      ]
     },
     "execution_count": 49,
     "metadata": {},
     "output_type": "execute_result"
    }
   ],
   "source": [
    "num_dimension = list(numerical_data)\n",
    "num_dimension.append('volume')\n",
    "num_dimension"
   ]
  },
  {
   "cell_type": "code",
   "execution_count": 50,
   "metadata": {
    "id": "wQzP0oN8EoJP"
   },
   "outputs": [],
   "source": [
    "num_attribs = list(numerical_data)\n",
    "cat_attribs = list(categorical_data)\n",
    "numerical_pip = Pipeline([('volume', Volume()),('Standard', StandardScaler())])\n",
    "full_pipeline = ColumnTransformer([('numerical', numerical_pip, num_attribs), ('categrical', OrdinalEncoder(categories = [['Fair', 'Good', 'Very Good', 'Premium', 'Ideal'], \n",
    "                                               ['J', 'I', 'H', 'G', 'F', 'E', 'D'],\n",
    "                                              ['I1', 'SI2', 'SI1', 'VS2', 'VS1', 'VVS2', 'VVS1', 'IF']]), cat_attribs)])\n",
    "final_data = full_pipeline.fit_transform(data)"
   ]
  },
  {
   "cell_type": "code",
   "execution_count": 51,
   "metadata": {
    "colab": {
     "base_uri": "https://localhost:8080/"
    },
    "id": "IakUvTirGqqm",
    "outputId": "ccd92ca6-2a44-4dfa-f1dc-c4ed342cd352"
   },
   "outputs": [
    {
     "data": {
      "text/plain": [
       "array([[ 2.11460164,  0.27745812, -0.19087498, ...,  3.        ,\n",
       "         3.        ,  2.        ],\n",
       "       [-1.07238201, -1.19373317, -0.19087498, ...,  4.        ,\n",
       "         5.        ,  3.        ],\n",
       "       [ 0.17964728, -0.26455973, -0.65385278, ...,  4.        ,\n",
       "         1.        ,  2.        ],\n",
       "       ...,\n",
       "       [-0.79921198,  0.66461372, -0.19087498, ...,  3.        ,\n",
       "         3.        ,  3.        ],\n",
       "       [ 0.0202981 ,  0.66461372,  0.27210281, ...,  3.        ,\n",
       "         4.        ,  3.        ],\n",
       "       [ 0.70322316,  0.43232036,  0.27210281, ...,  2.        ,\n",
       "         3.        ,  3.        ]])"
      ]
     },
     "execution_count": 51,
     "metadata": {},
     "output_type": "execute_result"
    }
   ],
   "source": [
    "final_data"
   ]
  },
  {
   "cell_type": "code",
   "execution_count": 52,
   "metadata": {
    "id": "VA6PCqGv7JOX"
   },
   "outputs": [],
   "source": [
    "from sklearn.linear_model import LinearRegression"
   ]
  },
  {
   "cell_type": "code",
   "execution_count": 53,
   "metadata": {
    "colab": {
     "base_uri": "https://localhost:8080/"
    },
    "id": "o5RnH8ls98Wx",
    "outputId": "ff98f637-0695-4697-d6cf-3a5ba6256f47"
   },
   "outputs": [
    {
     "name": "stdout",
     "output_type": "stream",
     "text": [
      "linear regression predictions:  [10997.8372637    433.0317269   3059.32625141 ...   534.32762796\n",
      "  3529.39261694  5838.27854784]\n"
     ]
    }
   ],
   "source": [
    "lin_reg = LinearRegression()\n",
    "lin_reg.fit(final_data, target)\n",
    "lin_pre = lin_reg.predict(final_data)\n",
    "print('linear regression predictions: ', lin_pre)"
   ]
  },
  {
   "cell_type": "code",
   "execution_count": 54,
   "metadata": {
    "id": "gA1P6eSx99w9"
   },
   "outputs": [],
   "source": [
    "from sklearn.metrics import mean_squared_error"
   ]
  },
  {
   "cell_type": "code",
   "execution_count": 55,
   "metadata": {
    "colab": {
     "base_uri": "https://localhost:8080/"
    },
    "id": "sJwGoFmRA8Vp",
    "outputId": "e491be71-0dac-45ed-fadb-ed24f22b7fe0"
   },
   "outputs": [
    {
     "name": "stdout",
     "output_type": "stream",
     "text": [
      "RMSE for linear predictions:  1035.4067196273056\n"
     ]
    }
   ],
   "source": [
    "lin_mse = mean_squared_error(target, lin_pre)\n",
    "lin_rmse = np.sqrt(lin_mse)\n",
    "print('RMSE for linear predictions: ', lin_rmse)"
   ]
  },
  {
   "cell_type": "code",
   "execution_count": 56,
   "metadata": {
    "id": "yVfMHFkBBmX4"
   },
   "outputs": [],
   "source": [
    "from sklearn.model_selection import cross_val_score\n",
    "lin_sco_mse = cross_val_score(lin_reg, final_data, target, scoring='neg_mean_squared_error', cv=10)\n",
    "lin_sco_rmse = np.sqrt(-lin_sco_mse)"
   ]
  },
  {
   "cell_type": "code",
   "execution_count": 57,
   "metadata": {
    "id": "qUrkvOhbCE4F"
   },
   "outputs": [],
   "source": [
    "def display_scores(scores):\n",
    "    print(\"Scores:\", scores)\n",
    "    print(\"Mean:\", scores.mean())\n",
    "    print(\"Standard deviation:\", scores.std())"
   ]
  },
  {
   "cell_type": "code",
   "execution_count": 58,
   "metadata": {
    "colab": {
     "base_uri": "https://localhost:8080/"
    },
    "id": "1pkv18gsCIYZ",
    "outputId": "5f9a87f4-f56a-4224-a495-9c39a65bd0ce"
   },
   "outputs": [
    {
     "name": "stdout",
     "output_type": "stream",
     "text": [
      "Scores: [ 980.65870491 1053.28959933 1012.5251163  1018.08677014 1043.76362857\n",
      " 1054.47116083 1104.26793444 1003.81633262 1028.42741248 1063.1448124 ]\n",
      "Mean: 1036.2451472024125\n",
      "Standard deviation: 33.353986471635054\n"
     ]
    }
   ],
   "source": [
    "display_scores(lin_sco_rmse)"
   ]
  },
  {
   "cell_type": "code",
   "execution_count": 59,
   "metadata": {
    "id": "RigwAC-2GWN_"
   },
   "outputs": [],
   "source": [
    "from sklearn.linear_model import Ridge"
   ]
  },
  {
   "cell_type": "code",
   "execution_count": 60,
   "metadata": {
    "colab": {
     "base_uri": "https://localhost:8080/"
    },
    "id": "R4d3rMbfrgiE",
    "outputId": "c486e210-cbf8-4094-84b8-3a5dc9c060f6"
   },
   "outputs": [
    {
     "name": "stdout",
     "output_type": "stream",
     "text": [
      "Ridge regression predictions:  [10997.97775783   433.11998536  3059.25089734 ...   534.39768566\n",
      "  3529.62950185  5838.25167181]\n"
     ]
    }
   ],
   "source": [
    "ridge_model = Ridge(alpha=0.1)\n",
    "ridge_model.fit(final_data, target)\n",
    "ridge_pre = ridge_model.predict(final_data)\n",
    "print('Ridge regression predictions: ', ridge_pre)"
   ]
  },
  {
   "cell_type": "code",
   "execution_count": 61,
   "metadata": {
    "colab": {
     "base_uri": "https://localhost:8080/"
    },
    "id": "ehNm4UdZxFVO",
    "outputId": "e8af1230-46ae-4659-8bbe-c3d2ff68b93a"
   },
   "outputs": [
    {
     "name": "stdout",
     "output_type": "stream",
     "text": [
      "RMSE for Ridge predictions:  1035.4067327424073\n"
     ]
    }
   ],
   "source": [
    "rid_mse = mean_squared_error(target, ridge_pre)\n",
    "rid_rmse = np.sqrt(rid_mse)\n",
    "print('RMSE for Ridge predictions: ', rid_rmse)"
   ]
  },
  {
   "cell_type": "code",
   "execution_count": 62,
   "metadata": {
    "colab": {
     "base_uri": "https://localhost:8080/"
    },
    "id": "g8skcTR8sQN2",
    "outputId": "e37fa60d-82b8-464f-99be-f852454de3ab"
   },
   "outputs": [
    {
     "name": "stdout",
     "output_type": "stream",
     "text": [
      "Scores: [ 980.66218768 1053.29048288 1012.52942254 1018.076725   1043.77236217\n",
      " 1054.47116425 1104.19025174 1003.8250509  1028.42981513 1063.14562963]\n",
      "Mean: 1036.2393091917786\n",
      "Standard deviation: 33.33721282064229\n"
     ]
    }
   ],
   "source": [
    "ridge_cross_mse = cross_val_score(ridge_model, final_data, target, scoring='neg_mean_squared_error', cv=10)\n",
    "ridge_cross_rmse = np.sqrt(-ridge_cross_mse)\n",
    "display_scores(ridge_cross_rmse)"
   ]
  },
  {
   "cell_type": "code",
   "execution_count": 63,
   "metadata": {
    "id": "2MdQm3sCCMhK"
   },
   "outputs": [],
   "source": [
    "from sklearn.tree import DecisionTreeRegressor "
   ]
  },
  {
   "cell_type": "code",
   "execution_count": 64,
   "metadata": {
    "colab": {
     "base_uri": "https://localhost:8080/"
    },
    "id": "K_baHyotFCft",
    "outputId": "77ff0397-192b-4eb3-b079-197cd72d872d"
   },
   "outputs": [
    {
     "name": "stdout",
     "output_type": "stream",
     "text": [
      "Decision Tree predictions:  [13417.   844.  3392. ...  1087.  2874.  6415.]\n"
     ]
    }
   ],
   "source": [
    "d_tree = DecisionTreeRegressor()\n",
    "d_tree.fit(final_data, target)\n",
    "d_predict = d_tree.predict(final_data)\n",
    "print('Decision Tree predictions: ', d_predict)"
   ]
  },
  {
   "cell_type": "code",
   "execution_count": 65,
   "metadata": {
    "colab": {
     "base_uri": "https://localhost:8080/"
    },
    "id": "SY_U1ySZwR4b",
    "outputId": "c01bcd55-a3eb-4454-f9a0-3635e505d271"
   },
   "outputs": [
    {
     "name": "stdout",
     "output_type": "stream",
     "text": [
      "RMSE for Decision Tree predictions:  6.091682418279925\n"
     ]
    }
   ],
   "source": [
    "des_mse = mean_squared_error(target, d_predict)\n",
    "des_rmse = np.sqrt(des_mse)\n",
    "print('RMSE for Decision Tree predictions: ', des_rmse)"
   ]
  },
  {
   "cell_type": "code",
   "execution_count": 66,
   "metadata": {
    "colab": {
     "base_uri": "https://localhost:8080/"
    },
    "id": "gooul6DLFUQQ",
    "outputId": "b8c30617-3deb-49d2-99ec-c818ed85bb51"
   },
   "outputs": [
    {
     "name": "stdout",
     "output_type": "stream",
     "text": [
      "Scores: [661.20946659 605.87179263 641.64054039 620.00011222 633.42189739\n",
      " 649.18411858 704.47030956 622.05408749 648.73328788 637.70627146]\n",
      "Mean: 642.4291884182455\n",
      "Standard deviation: 25.779606081652027\n"
     ]
    }
   ],
   "source": [
    "d_cross_mse = cross_val_score(d_tree, final_data, target, scoring='neg_mean_squared_error', cv=10)\n",
    "d_cross_rmse = np.sqrt(-d_cross_mse)\n",
    "display_scores(d_cross_rmse)"
   ]
  },
  {
   "cell_type": "code",
   "execution_count": 67,
   "metadata": {
    "colab": {
     "base_uri": "https://localhost:8080/"
    },
    "id": "ohtaNIKKFv8G",
    "outputId": "2eb266a0-f089-4ef5-c8ef-d79d248be708"
   },
   "outputs": [
    {
     "name": "stdout",
     "output_type": "stream",
     "text": [
      "Random Forest predictions:  [13167.86   851.85  3277.99 ...  1072.43  3014.57  6359.39]\n"
     ]
    }
   ],
   "source": [
    "from sklearn.ensemble import RandomForestRegressor\n",
    "ranF = RandomForestRegressor()\n",
    "ranF.fit(final_data, target)\n",
    "ranF_predict = ranF.predict(final_data)\n",
    "print('Random Forest predictions: ', ranF_predict)"
   ]
  },
  {
   "cell_type": "code",
   "execution_count": 68,
   "metadata": {
    "colab": {
     "base_uri": "https://localhost:8080/"
    },
    "id": "-_rnoJrswmet",
    "outputId": "c68de7b0-006a-43d0-b9dc-8f6e2f36c01b"
   },
   "outputs": [
    {
     "name": "stdout",
     "output_type": "stream",
     "text": [
      "RMSE for Random Forest predictions:  173.3608373593614\n"
     ]
    }
   ],
   "source": [
    "ran_mse = mean_squared_error(target, ranF_predict)\n",
    "ran_rmse = np.sqrt(ran_mse)\n",
    "print('RMSE for Random Forest predictions: ', ran_rmse)"
   ]
  },
  {
   "cell_type": "code",
   "execution_count": 69,
   "metadata": {
    "colab": {
     "base_uri": "https://localhost:8080/"
    },
    "id": "QuikwKMSGD-c",
    "outputId": "0f36fe77-0d7b-4728-840d-dde6e51566bc"
   },
   "outputs": [
    {
     "name": "stdout",
     "output_type": "stream",
     "text": [
      "Scores: [457.65060973 455.10270145 461.50730929 446.93989477 456.79803902\n",
      " 456.22527049 534.6505838  459.01193579 485.96518529 465.66238848]\n",
      "Mean: 467.9513918105123\n",
      "Standard deviation: 24.237441574388832\n"
     ]
    }
   ],
   "source": [
    "ranF_cross_mse = cross_val_score(ranF, final_data, target, scoring='neg_mean_squared_error', cv=10)\n",
    "ranF_cross_rmse = np.sqrt(-ranF_cross_mse)\n",
    "display_scores(ranF_cross_rmse)"
   ]
  },
  {
   "cell_type": "code",
   "execution_count": 70,
   "metadata": {
    "id": "xi1GHEPVycEF"
   },
   "outputs": [],
   "source": [
    "import joblib\n",
    "linear_model = joblib.dump(lin_reg, 'linear_model.pkl')\n",
    "Ridge_model = joblib.dump(ridge_model, 'ridge_model.pkl')\n",
    "DecisionTree_model = joblib.dump(d_tree, 'DecisionTree_model.pkl')\n",
    "RndomForest_model = joblib.dump(ranF, 'RndomForest_model.pkl')"
   ]
  },
  {
   "cell_type": "code",
   "execution_count": 71,
   "metadata": {
    "colab": {
     "base_uri": "https://localhost:8080/"
    },
    "id": "-jsFG-wftUcG",
    "outputId": "78c430c5-d680-40b2-cfca-c9319bde1438"
   },
   "outputs": [
    {
     "data": {
      "text/plain": [
       "{'bootstrap': True,\n",
       " 'ccp_alpha': 0.0,\n",
       " 'criterion': 'mse',\n",
       " 'max_depth': None,\n",
       " 'max_features': 'auto',\n",
       " 'max_leaf_nodes': None,\n",
       " 'max_samples': None,\n",
       " 'min_impurity_decrease': 0.0,\n",
       " 'min_impurity_split': None,\n",
       " 'min_samples_leaf': 1,\n",
       " 'min_samples_split': 2,\n",
       " 'min_weight_fraction_leaf': 0.0,\n",
       " 'n_estimators': 100,\n",
       " 'n_jobs': None,\n",
       " 'oob_score': False,\n",
       " 'random_state': None,\n",
       " 'verbose': 0,\n",
       " 'warm_start': False}"
      ]
     },
     "execution_count": 71,
     "metadata": {},
     "output_type": "execute_result"
    }
   ],
   "source": [
    "ranF.get_params()"
   ]
  },
  {
   "cell_type": "code",
   "execution_count": 72,
   "metadata": {
    "colab": {
     "base_uri": "https://localhost:8080/"
    },
    "id": "YGH57PBLzjp7",
    "outputId": "2199e37c-2be7-43f9-c772-3263d7bc4af1"
   },
   "outputs": [
    {
     "name": "stdout",
     "output_type": "stream",
     "text": [
      "Best_Estimator:  RandomForestRegressor(bootstrap=True, ccp_alpha=0.0, criterion='mse',\n",
      "                      max_depth=None, max_features=6, max_leaf_nodes=None,\n",
      "                      max_samples=None, min_impurity_decrease=0.0,\n",
      "                      min_impurity_split=None, min_samples_leaf=1,\n",
      "                      min_samples_split=2, min_weight_fraction_leaf=0.0,\n",
      "                      n_estimators=30, n_jobs=None, oob_score=False,\n",
      "                      random_state=None, verbose=0, warm_start=False)\n",
      "*********************************************\n",
      "676.7689354398595 {'max_features': 2, 'n_estimators': 3}\n",
      "563.9283739298896 {'max_features': 2, 'n_estimators': 10}\n",
      "532.3333237491026 {'max_features': 2, 'n_estimators': 30}\n",
      "567.5222120465389 {'max_features': 4, 'n_estimators': 3}\n",
      "500.9256548433584 {'max_features': 4, 'n_estimators': 10}\n",
      "480.404723557361 {'max_features': 4, 'n_estimators': 30}\n",
      "540.5094703424093 {'max_features': 6, 'n_estimators': 3}\n",
      "488.48680155550244 {'max_features': 6, 'n_estimators': 10}\n",
      "471.19407562309874 {'max_features': 6, 'n_estimators': 30}\n",
      "537.6503697231699 {'max_features': 8, 'n_estimators': 3}\n",
      "487.08870114579645 {'max_features': 8, 'n_estimators': 10}\n",
      "473.6111438923693 {'max_features': 8, 'n_estimators': 30}\n",
      "639.8753460196183 {'bootstrap': False, 'max_features': 2, 'n_estimators': 3}\n",
      "545.8563310993296 {'bootstrap': False, 'max_features': 2, 'n_estimators': 10}\n",
      "580.8982241333383 {'bootstrap': False, 'max_features': 3, 'n_estimators': 3}\n",
      "510.59906592891826 {'bootstrap': False, 'max_features': 3, 'n_estimators': 10}\n",
      "551.3644385111759 {'bootstrap': False, 'max_features': 4, 'n_estimators': 3}\n",
      "496.4247757330161 {'bootstrap': False, 'max_features': 4, 'n_estimators': 10}\n"
     ]
    }
   ],
   "source": [
    "from sklearn.model_selection import GridSearchCV\n",
    "forest_reg = RandomForestRegressor()\n",
    "param_grid = [{'n_estimators': [3, 10, 30], 'max_features': [2, 4, 6, 8]},{'bootstrap': [False], 'n_estimators': [3, 10], 'max_features': [2, 3, 4]},]\n",
    "ranf_grid_search = GridSearchCV(forest_reg, param_grid, cv=10, scoring='neg_mean_squared_error', return_train_score=True)\n",
    "ranf_grid_search.fit(final_data, target)\n",
    "print('Best_Estimator: ', ranf_grid_search.best_estimator_)\n",
    "print('*********************************************')\n",
    "scores = ranf_grid_search.cv_results_\n",
    "for mean_score, params in zip(scores['mean_test_score'], scores['params']):\n",
    "    print(np.sqrt(-mean_score), params)"
   ]
  },
  {
   "cell_type": "code",
   "execution_count": 73,
   "metadata": {
    "id": "3NDeRBiF4JTE"
   },
   "outputs": [],
   "source": [
    "final_model = ranf_grid_search.best_estimator_"
   ]
  },
  {
   "cell_type": "code",
   "execution_count": 74,
   "metadata": {
    "colab": {
     "base_uri": "https://localhost:8080/",
     "height": 361
    },
    "id": "51yvCVmi4YHK",
    "outputId": "7b5f4d9c-4cf7-4573-b34c-62e27c5b0ae5"
   },
   "outputs": [
    {
     "data": {
      "text/html": [
       "<div>\n",
       "<style scoped>\n",
       "    .dataframe tbody tr th:only-of-type {\n",
       "        vertical-align: middle;\n",
       "    }\n",
       "\n",
       "    .dataframe tbody tr th {\n",
       "        vertical-align: top;\n",
       "    }\n",
       "\n",
       "    .dataframe thead th {\n",
       "        text-align: right;\n",
       "    }\n",
       "</style>\n",
       "<table border=\"1\" class=\"dataframe\">\n",
       "  <thead>\n",
       "    <tr style=\"text-align: right;\">\n",
       "      <th></th>\n",
       "      <th>carat</th>\n",
       "      <th>cut</th>\n",
       "      <th>color</th>\n",
       "      <th>clarity</th>\n",
       "      <th>depth</th>\n",
       "      <th>table</th>\n",
       "      <th>price</th>\n",
       "      <th>x</th>\n",
       "      <th>y</th>\n",
       "      <th>z</th>\n",
       "    </tr>\n",
       "  </thead>\n",
       "  <tbody>\n",
       "    <tr>\n",
       "      <th>38067</th>\n",
       "      <td>0.30</td>\n",
       "      <td>Premium</td>\n",
       "      <td>E</td>\n",
       "      <td>VVS2</td>\n",
       "      <td>61.3</td>\n",
       "      <td>59.0</td>\n",
       "      <td>1013</td>\n",
       "      <td>4.32</td>\n",
       "      <td>4.30</td>\n",
       "      <td>2.64</td>\n",
       "    </tr>\n",
       "    <tr>\n",
       "      <th>12691</th>\n",
       "      <td>0.26</td>\n",
       "      <td>Very Good</td>\n",
       "      <td>E</td>\n",
       "      <td>VVS2</td>\n",
       "      <td>61.7</td>\n",
       "      <td>60.0</td>\n",
       "      <td>599</td>\n",
       "      <td>4.11</td>\n",
       "      <td>4.12</td>\n",
       "      <td>2.54</td>\n",
       "    </tr>\n",
       "    <tr>\n",
       "      <th>15384</th>\n",
       "      <td>0.32</td>\n",
       "      <td>Very Good</td>\n",
       "      <td>G</td>\n",
       "      <td>VVS2</td>\n",
       "      <td>64.0</td>\n",
       "      <td>55.0</td>\n",
       "      <td>607</td>\n",
       "      <td>4.31</td>\n",
       "      <td>4.35</td>\n",
       "      <td>2.77</td>\n",
       "    </tr>\n",
       "    <tr>\n",
       "      <th>32617</th>\n",
       "      <td>0.30</td>\n",
       "      <td>Ideal</td>\n",
       "      <td>H</td>\n",
       "      <td>VS2</td>\n",
       "      <td>62.1</td>\n",
       "      <td>55.0</td>\n",
       "      <td>457</td>\n",
       "      <td>4.30</td>\n",
       "      <td>4.33</td>\n",
       "      <td>2.68</td>\n",
       "    </tr>\n",
       "    <tr>\n",
       "      <th>9319</th>\n",
       "      <td>1.09</td>\n",
       "      <td>Premium</td>\n",
       "      <td>H</td>\n",
       "      <td>SI2</td>\n",
       "      <td>62.1</td>\n",
       "      <td>55.0</td>\n",
       "      <td>4578</td>\n",
       "      <td>6.63</td>\n",
       "      <td>6.58</td>\n",
       "      <td>4.10</td>\n",
       "    </tr>\n",
       "    <tr>\n",
       "      <th>13159</th>\n",
       "      <td>1.01</td>\n",
       "      <td>Good</td>\n",
       "      <td>D</td>\n",
       "      <td>SI1</td>\n",
       "      <td>63.1</td>\n",
       "      <td>60.0</td>\n",
       "      <td>5443</td>\n",
       "      <td>6.32</td>\n",
       "      <td>6.39</td>\n",
       "      <td>4.01</td>\n",
       "    </tr>\n",
       "    <tr>\n",
       "      <th>46466</th>\n",
       "      <td>0.53</td>\n",
       "      <td>Ideal</td>\n",
       "      <td>H</td>\n",
       "      <td>VVS1</td>\n",
       "      <td>62.2</td>\n",
       "      <td>56.0</td>\n",
       "      <td>1775</td>\n",
       "      <td>5.16</td>\n",
       "      <td>5.20</td>\n",
       "      <td>3.22</td>\n",
       "    </tr>\n",
       "    <tr>\n",
       "      <th>52466</th>\n",
       "      <td>0.75</td>\n",
       "      <td>Very Good</td>\n",
       "      <td>E</td>\n",
       "      <td>SI1</td>\n",
       "      <td>62.4</td>\n",
       "      <td>57.0</td>\n",
       "      <td>2517</td>\n",
       "      <td>5.79</td>\n",
       "      <td>5.85</td>\n",
       "      <td>3.63</td>\n",
       "    </tr>\n",
       "    <tr>\n",
       "      <th>21283</th>\n",
       "      <td>1.12</td>\n",
       "      <td>Premium</td>\n",
       "      <td>G</td>\n",
       "      <td>IF</td>\n",
       "      <td>61.2</td>\n",
       "      <td>58.0</td>\n",
       "      <td>9440</td>\n",
       "      <td>6.67</td>\n",
       "      <td>6.70</td>\n",
       "      <td>4.09</td>\n",
       "    </tr>\n",
       "    <tr>\n",
       "      <th>12949</th>\n",
       "      <td>0.90</td>\n",
       "      <td>Very Good</td>\n",
       "      <td>E</td>\n",
       "      <td>SI1</td>\n",
       "      <td>61.4</td>\n",
       "      <td>56.0</td>\n",
       "      <td>5387</td>\n",
       "      <td>6.19</td>\n",
       "      <td>6.23</td>\n",
       "      <td>3.81</td>\n",
       "    </tr>\n",
       "  </tbody>\n",
       "</table>\n",
       "</div>"
      ],
      "text/plain": [
       "       carat        cut color clarity  depth  table  price     x     y     z\n",
       "38067   0.30    Premium     E    VVS2   61.3   59.0   1013  4.32  4.30  2.64\n",
       "12691   0.26  Very Good     E    VVS2   61.7   60.0    599  4.11  4.12  2.54\n",
       "15384   0.32  Very Good     G    VVS2   64.0   55.0    607  4.31  4.35  2.77\n",
       "32617   0.30      Ideal     H     VS2   62.1   55.0    457  4.30  4.33  2.68\n",
       "9319    1.09    Premium     H     SI2   62.1   55.0   4578  6.63  6.58  4.10\n",
       "13159   1.01       Good     D     SI1   63.1   60.0   5443  6.32  6.39  4.01\n",
       "46466   0.53      Ideal     H    VVS1   62.2   56.0   1775  5.16  5.20  3.22\n",
       "52466   0.75  Very Good     E     SI1   62.4   57.0   2517  5.79  5.85  3.63\n",
       "21283   1.12    Premium     G      IF   61.2   58.0   9440  6.67  6.70  4.09\n",
       "12949   0.90  Very Good     E     SI1   61.4   56.0   5387  6.19  6.23  3.81"
      ]
     },
     "execution_count": 74,
     "metadata": {},
     "output_type": "execute_result"
    }
   ],
   "source": [
    "test_set.head(10)"
   ]
  },
  {
   "cell_type": "code",
   "execution_count": 75,
   "metadata": {
    "id": "mo5VRDhoiEuE"
   },
   "outputs": [],
   "source": [
    "test_data = test_set.drop('price', axis=1)\n",
    "y_hat = test_set['price'].copy()"
   ]
  },
  {
   "cell_type": "code",
   "execution_count": 76,
   "metadata": {
    "id": "MRozTASNid0e"
   },
   "outputs": [],
   "source": [
    "final_test_data = full_pipeline.transform(test_data)"
   ]
  },
  {
   "cell_type": "code",
   "execution_count": 77,
   "metadata": {
    "id": "qirCbrU6jMMq"
   },
   "outputs": [],
   "source": [
    "final_prediction = final_model.predict(final_test_data)"
   ]
  },
  {
   "cell_type": "code",
   "execution_count": 78,
   "metadata": {
    "id": "IAl_d1QZjaE-"
   },
   "outputs": [],
   "source": [
    "final_mse = mean_squared_error(y_hat, final_prediction)"
   ]
  },
  {
   "cell_type": "code",
   "execution_count": 79,
   "metadata": {
    "colab": {
     "base_uri": "https://localhost:8080/"
    },
    "id": "fb8GHV4bjhVW",
    "outputId": "4e0c69d3-82c5-4c58-f755-3683dc769512"
   },
   "outputs": [
    {
     "name": "stdout",
     "output_type": "stream",
     "text": [
      "443.5133622246852\n"
     ]
    }
   ],
   "source": [
    "final_rmse = np.sqrt(final_mse)\n",
    "print(final_rmse)"
   ]
  },
  {
   "cell_type": "code",
   "execution_count": 80,
   "metadata": {
    "colab": {
     "base_uri": "https://localhost:8080/"
    },
    "id": "nhPOVSFpjrPr",
    "outputId": "de6d3ad9-ff1b-435d-8315-039abdb69608"
   },
   "outputs": [
    {
     "data": {
      "text/plain": [
       "array([424.78351496, 461.48366207])"
      ]
     },
     "execution_count": 80,
     "metadata": {},
     "output_type": "execute_result"
    }
   ],
   "source": [
    "from scipy import stats\n",
    "confidence = 0.95\n",
    "SR = (final_prediction - y_hat) ** 2\n",
    "np.sqrt(stats.t.interval(confidence, len(SR) - 1, loc=SR.mean(), scale=stats.sem(SR)))"
   ]
  }
 ],
 "metadata": {
  "colab": {
   "collapsed_sections": [],
   "name": "final_task7.ipynb",
   "provenance": []
  },
  "interpreter": {
   "hash": "8731da7754ff1b4bca22944143a85d9f06670e0664379424f846e8cc7b3bfa69"
  },
  "kernelspec": {
   "display_name": "Python 3",
   "language": "python",
   "name": "python3"
  },
  "language_info": {
   "codemirror_mode": {
    "name": "ipython",
    "version": 3
   },
   "file_extension": ".py",
   "mimetype": "text/x-python",
   "name": "python",
   "nbconvert_exporter": "python",
   "pygments_lexer": "ipython3",
   "version": "3.7.10"
  }
 },
 "nbformat": 4,
 "nbformat_minor": 4
}
